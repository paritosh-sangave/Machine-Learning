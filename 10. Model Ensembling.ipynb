{
 "cells": [
  {
   "cell_type": "markdown",
   "id": "fc59904c",
   "metadata": {},
   "source": [
    "# 1. Voting"
   ]
  },
  {
   "cell_type": "markdown",
   "id": "bc93c85c",
   "metadata": {},
   "source": [
    "## Voting Classification"
   ]
  },
  {
   "cell_type": "code",
   "execution_count": 17,
   "id": "85c911ce",
   "metadata": {},
   "outputs": [],
   "source": [
    "import pandas as pd\n",
    "from sklearn.model_selection import StratifiedKFold, GridSearchCV\n",
    "from sklearn.model_selection import train_test_split, cross_val_score\n",
    "from sklearn.svm import SVC\n",
    "from sklearn.naive_bayes import GaussianNB\n",
    "from sklearn.discriminant_analysis import LinearDiscriminantAnalysis\n",
    "from sklearn.ensemble import VotingClassifier\n",
    "import matplotlib.pyplot as plt\n",
    "from sklearn.metrics import accuracy_score, roc_auc_score\n",
    "import os\n",
    "import numpy as np\n",
    "import warnings\n",
    "warnings.filterwarnings('ignore')"
   ]
  },
  {
   "cell_type": "markdown",
   "id": "65bba6f4",
   "metadata": {},
   "source": [
    "#### Kyphosis Dataset"
   ]
  },
  {
   "cell_type": "code",
   "execution_count": 3,
   "id": "b53e401d",
   "metadata": {},
   "outputs": [],
   "source": [
    "os.chdir(r\"C:\\CDAC\\6_Practical_Machine_Learning\\Cases\\Kyphosis\")"
   ]
  },
  {
   "cell_type": "code",
   "execution_count": 4,
   "id": "4ff3ab1a",
   "metadata": {},
   "outputs": [],
   "source": [
    "kyph = pd.read_csv(\"Kyphosis.csv\")\n",
    "dum_kyph = pd.get_dummies(kyph, drop_first=True)\n",
    "X = dum_kyph.drop('Kyphosis_present', axis=1)\n",
    "y = dum_kyph['Kyphosis_present']"
   ]
  },
  {
   "cell_type": "code",
   "execution_count": 5,
   "id": "0658be22",
   "metadata": {},
   "outputs": [],
   "source": [
    "X_train, X_test, y_train, y_test = train_test_split(X, y, stratify=y,\n",
    "                                                    random_state=2023,\n",
    "                                                    test_size=0.3)"
   ]
  },
  {
   "cell_type": "code",
   "execution_count": 6,
   "id": "028a0704",
   "metadata": {},
   "outputs": [],
   "source": [
    "svm = SVC(probability=True, kernel='linear', random_state=2023 )\n",
    "nb = GaussianNB()\n",
    "lda = LinearDiscriminantAnalysis()\n",
    "\n",
    "voting = VotingClassifier([('SVM',svm),('NB',nb),('LDA',lda)], voting='soft')"
   ]
  },
  {
   "cell_type": "code",
   "execution_count": 7,
   "id": "6c853b24",
   "metadata": {},
   "outputs": [
    {
     "name": "stdout",
     "output_type": "stream",
     "text": [
      "0.76\n",
      "0.75\n"
     ]
    }
   ],
   "source": [
    "voting.fit(X_train, y_train)\n",
    "y_pred = voting.predict(X_test)\n",
    "print(accuracy_score(y_test, y_pred))\n",
    "y_pred_prob = voting.predict_proba(X_test)[:,1]\n",
    "print(roc_auc_score(y_test, y_pred_prob))"
   ]
  },
  {
   "cell_type": "code",
   "execution_count": 8,
   "id": "1b8c9857",
   "metadata": {},
   "outputs": [
    {
     "name": "stdout",
     "output_type": "stream",
     "text": [
      "0.8400641025641026\n"
     ]
    }
   ],
   "source": [
    "##################### K-Folds CV $$$$$$$$$$$$$$$$$$$$$$$$$$$$\n",
    "kfold = StratifiedKFold(n_splits=5, shuffle=True, random_state=2023)\n",
    "results = cross_val_score(voting, X, y, scoring='roc_auc',\n",
    "                          cv=kfold)\n",
    "print(results.mean())"
   ]
  },
  {
   "cell_type": "code",
   "execution_count": 9,
   "id": "69d026a5",
   "metadata": {},
   "outputs": [
    {
     "name": "stdout",
     "output_type": "stream",
     "text": [
      "{'estimators': [('SVM', SVC(kernel='linear', probability=True, random_state=2023)), ('NB', GaussianNB()), ('LDA', LinearDiscriminantAnalysis())], 'flatten_transform': True, 'n_jobs': None, 'verbose': False, 'voting': 'soft', 'weights': None, 'SVM': SVC(kernel='linear', probability=True, random_state=2023), 'NB': GaussianNB(), 'LDA': LinearDiscriminantAnalysis(), 'SVM__C': 1.0, 'SVM__break_ties': False, 'SVM__cache_size': 200, 'SVM__class_weight': None, 'SVM__coef0': 0.0, 'SVM__decision_function_shape': 'ovr', 'SVM__degree': 3, 'SVM__gamma': 'scale', 'SVM__kernel': 'linear', 'SVM__max_iter': -1, 'SVM__probability': True, 'SVM__random_state': 2023, 'SVM__shrinking': True, 'SVM__tol': 0.001, 'SVM__verbose': False, 'NB__priors': None, 'NB__var_smoothing': 1e-09, 'LDA__covariance_estimator': None, 'LDA__n_components': None, 'LDA__priors': None, 'LDA__shrinkage': None, 'LDA__solver': 'svd', 'LDA__store_covariance': False, 'LDA__tol': 0.0001}\n",
      "{'SVM__C': 0.01}\n",
      "0.8400641025641026\n"
     ]
    }
   ],
   "source": [
    "################## Grid Search CV ###########################\n",
    "print(voting.get_params())\n",
    "params = {'SVM__C': [0.01, 0.1, 0.5, 1, 1.5, 2]}\n",
    "gcv = GridSearchCV(voting, param_grid=params, \n",
    "                   cv=kfold, scoring='roc_auc')\n",
    "gcv.fit(X, y)\n",
    "print(gcv.best_params_)\n",
    "print(gcv.best_score_)"
   ]
  },
  {
   "cell_type": "markdown",
   "id": "febece0a",
   "metadata": {},
   "source": [
    "#### Bankruptcy Dataset"
   ]
  },
  {
   "cell_type": "code",
   "execution_count": 11,
   "id": "57348920",
   "metadata": {},
   "outputs": [],
   "source": [
    "os.chdir(r\"C:\\CDAC\\6_Practical_Machine_Learning\\Cases\\Bankruptcy\")"
   ]
  },
  {
   "cell_type": "code",
   "execution_count": 12,
   "id": "c1a242ad",
   "metadata": {},
   "outputs": [],
   "source": [
    "brupt = pd.read_csv(\"Bankruptcy.csv\")\n",
    "X = brupt.drop(['NO', 'D'], axis=1)\n",
    "y = brupt['D']"
   ]
  },
  {
   "cell_type": "code",
   "execution_count": 13,
   "id": "a7c98c6c",
   "metadata": {},
   "outputs": [],
   "source": [
    "from sklearn.linear_model import LogisticRegression\n",
    "from sklearn.tree import DecisionTreeClassifier"
   ]
  },
  {
   "cell_type": "code",
   "execution_count": 14,
   "id": "f167e163",
   "metadata": {},
   "outputs": [],
   "source": [
    "nb = GaussianNB()\n",
    "dtc = DecisionTreeClassifier(random_state=2023)\n",
    "lr = LogisticRegression()\n",
    "voting = VotingClassifier([('NB',nb),('DT',dtc),('LR',lr)], voting='soft')"
   ]
  },
  {
   "cell_type": "code",
   "execution_count": 15,
   "id": "831d004a",
   "metadata": {},
   "outputs": [
    {
     "name": "stdout",
     "output_type": "stream",
     "text": [
      "{'estimators': [('NB', GaussianNB()), ('DT', DecisionTreeClassifier(random_state=2023)), ('LR', LogisticRegression())], 'flatten_transform': True, 'n_jobs': None, 'verbose': False, 'voting': 'soft', 'weights': None, 'NB': GaussianNB(), 'DT': DecisionTreeClassifier(random_state=2023), 'LR': LogisticRegression(), 'NB__priors': None, 'NB__var_smoothing': 1e-09, 'DT__ccp_alpha': 0.0, 'DT__class_weight': None, 'DT__criterion': 'gini', 'DT__max_depth': None, 'DT__max_features': None, 'DT__max_leaf_nodes': None, 'DT__min_impurity_decrease': 0.0, 'DT__min_samples_leaf': 1, 'DT__min_samples_split': 2, 'DT__min_weight_fraction_leaf': 0.0, 'DT__random_state': 2023, 'DT__splitter': 'best', 'LR__C': 1.0, 'LR__class_weight': None, 'LR__dual': False, 'LR__fit_intercept': True, 'LR__intercept_scaling': 1, 'LR__l1_ratio': None, 'LR__max_iter': 100, 'LR__multi_class': 'auto', 'LR__n_jobs': None, 'LR__penalty': 'l2', 'LR__random_state': None, 'LR__solver': 'lbfgs', 'LR__tol': 0.0001, 'LR__verbose': 0, 'LR__warm_start': False}\n"
     ]
    }
   ],
   "source": [
    "print(voting.get_params())\n"
   ]
  },
  {
   "cell_type": "code",
   "execution_count": 18,
   "id": "278ff935",
   "metadata": {},
   "outputs": [
    {
     "name": "stdout",
     "output_type": "stream",
     "text": [
      "Fitting 5 folds for each of 400 candidates, totalling 2000 fits\n",
      "{'DT__max_depth': 4, 'DT__min_samples_leaf': 1, 'DT__min_samples_split': 2, 'LR__penalty': None}\n",
      "0.8964497041420119\n"
     ]
    }
   ],
   "source": [
    "params = {'DT__max_depth':[None, 3, 4, 5],\n",
    "          'DT__min_samples_split':[2, 4, 6, 8, 10],\n",
    "          'DT__min_samples_leaf':[1, 3, 5, 9, 11],\n",
    "          'LR__penalty':['l1','l2','elasticnet',None]}\n",
    "gcv = GridSearchCV(voting, param_grid=params,\n",
    "                   scoring='roc_auc',n_jobs=-1,\n",
    "                   cv=kfold, verbose=3)\n",
    "gcv.fit(X, y)\n",
    "pd_cv = pd.DataFrame( gcv.cv_results_ )\n",
    "print(gcv.best_params_)\n",
    "print(gcv.best_score_)"
   ]
  },
  {
   "cell_type": "markdown",
   "id": "13b09368",
   "metadata": {},
   "source": [
    "## Voting Regression"
   ]
  },
  {
   "cell_type": "code",
   "execution_count": 19,
   "id": "7989131c",
   "metadata": {},
   "outputs": [],
   "source": [
    "import pandas as pd\n",
    "from sklearn.model_selection import KFold, GridSearchCV\n",
    "from sklearn.model_selection import train_test_split, cross_val_score\n",
    "from sklearn.tree import DecisionTreeRegressor\n",
    "from sklearn.linear_model import ElasticNet\n",
    "from sklearn.linear_model import LinearRegression\n",
    "from sklearn.ensemble import VotingRegressor\n",
    "from sklearn.metrics import r2_score\n",
    "import os\n",
    "import numpy as np"
   ]
  },
  {
   "cell_type": "code",
   "execution_count": 20,
   "id": "0539c937",
   "metadata": {},
   "outputs": [],
   "source": [
    "os.chdir(r\"C:\\CDAC\\6_Practical_Machine_Learning\\Datasets\")"
   ]
  },
  {
   "cell_type": "code",
   "execution_count": 22,
   "id": "5b73fd12",
   "metadata": {},
   "outputs": [],
   "source": [
    "housing = pd.read_csv(\"Housing.csv\")\n",
    "dum_hous = pd.get_dummies(housing, drop_first=True)\n",
    "X = dum_hous.drop('price', axis=1)\n",
    "y = dum_hous['price']"
   ]
  },
  {
   "cell_type": "code",
   "execution_count": 23,
   "id": "70c10660",
   "metadata": {},
   "outputs": [],
   "source": [
    "X_train, X_test, y_train, y_test = train_test_split(X, y,\n",
    "                                                    random_state=2023,\n",
    "                                                    test_size=0.3)"
   ]
  },
  {
   "cell_type": "code",
   "execution_count": 24,
   "id": "413a913e",
   "metadata": {},
   "outputs": [],
   "source": [
    "dtr = DecisionTreeRegressor(random_state=2023)\n",
    "elastic = ElasticNet()\n",
    "lr = LinearRegression()\n",
    "voting = VotingRegressor([('DT',dtr),('ELASTIC',elastic),('LR',lr)])"
   ]
  },
  {
   "cell_type": "code",
   "execution_count": 25,
   "id": "c7826b30",
   "metadata": {},
   "outputs": [
    {
     "name": "stdout",
     "output_type": "stream",
     "text": [
      "0.6194223932792857\n"
     ]
    }
   ],
   "source": [
    "voting.fit(X_train, y_train)\n",
    "y_pred = voting.predict(X_test)\n",
    "print(r2_score(y_test, y_pred))"
   ]
  },
  {
   "cell_type": "code",
   "execution_count": 26,
   "id": "373375e0",
   "metadata": {},
   "outputs": [
    {
     "name": "stdout",
     "output_type": "stream",
     "text": [
      "0.621768009956367\n"
     ]
    }
   ],
   "source": [
    "########################## K-Folds CV $$$$$$$$$$$$$$$$$$$$$$$$$$$$$$$$\n",
    "voting = VotingRegressor([('DT',dtr),('ELASTIC',elastic),('LR',lr)])\n",
    "kfold = KFold(n_splits=5, shuffle=True, random_state=2023)\n",
    "results = cross_val_score(voting, X, y, cv=kfold)\n",
    "print(results.mean())"
   ]
  },
  {
   "cell_type": "code",
   "execution_count": 27,
   "id": "3570c3e5",
   "metadata": {},
   "outputs": [],
   "source": [
    "####### with weights\n",
    "results = cross_val_score(dtr, X, y, cv=kfold)\n",
    "r2_dtr = results.mean()\n",
    "\n",
    "results = cross_val_score(elastic, X, y, cv=kfold)\n",
    "r2_elastic = results.mean()\n",
    "\n",
    "results = cross_val_score(lr, X, y, cv=kfold)\n",
    "r2_lr = results.mean()\n",
    "\n",
    "voting = VotingRegressor([('DT',dtr),('ELASTIC',elastic),('LR',lr)],\n",
    "                         weights=[r2_dtr, r2_elastic, r2_lr])"
   ]
  },
  {
   "cell_type": "code",
   "execution_count": 28,
   "id": "490bf397",
   "metadata": {},
   "outputs": [
    {
     "name": "stdout",
     "output_type": "stream",
     "text": [
      "0.6375134919933002\n"
     ]
    }
   ],
   "source": [
    "kfold = KFold(n_splits=5, shuffle=True, random_state=2023)\n",
    "results = cross_val_score(voting, X, y, cv=kfold)\n",
    "print(results.mean())"
   ]
  },
  {
   "cell_type": "code",
   "execution_count": 30,
   "id": "226ee4d3",
   "metadata": {},
   "outputs": [
    {
     "name": "stdout",
     "output_type": "stream",
     "text": [
      "{'DT__max_depth': None, 'DT__min_samples_leaf': 1, 'DT__min_samples_split': 10, 'ELASTIC__alpha': 0.0, 'ELASTIC__l1_ratio': 0.0}\n",
      "0.647853638192189\n"
     ]
    }
   ],
   "source": [
    "################## Grid Search CV ####################################\n",
    "voting = VotingRegressor([('DT',dtr),('ELASTIC',elastic),('LR',lr)],\n",
    "                         weights=[r2_dtr, r2_elastic, r2_lr])\n",
    "# print(voting.get_params())\n",
    "# params = {'max_depth':[None, 3, 4, 5],\n",
    "#           'min_samples_split':[2, 5, 10],\n",
    "#           'min_samples_leaf':[1, 4, 10],\n",
    "#   ElasticNet: alpha=np.linspace(0,10,5),\n",
    "#                l1_ratio=np.linspace(0,1,5)}\n",
    "params = {'DT__max_depth':[None, 3, 4, 5],\n",
    "          'DT__min_samples_split':[2, 5, 10],\n",
    "          'DT__min_samples_leaf':[1, 4, 10],\n",
    "          'ELASTIC__alpha':np.linspace(0,10,5),\n",
    "          'ELASTIC__l1_ratio':np.linspace(0,1,5)}\n",
    "gcv = GridSearchCV(voting, param_grid=params, \n",
    "                   scoring='r2', cv=kfold)\n",
    "gcv.fit(X, y)\n",
    "print(gcv.best_params_)\n",
    "print(gcv.best_score_)"
   ]
  },
  {
   "cell_type": "markdown",
   "id": "ec0d5c45",
   "metadata": {},
   "source": [
    "# 2. Bagging"
   ]
  },
  {
   "cell_type": "code",
   "execution_count": null,
   "id": "8b50a1f4",
   "metadata": {},
   "outputs": [],
   "source": []
  }
 ],
 "metadata": {
  "kernelspec": {
   "display_name": "Python 3 (ipykernel)",
   "language": "python",
   "name": "python3"
  },
  "language_info": {
   "codemirror_mode": {
    "name": "ipython",
    "version": 3
   },
   "file_extension": ".py",
   "mimetype": "text/x-python",
   "name": "python",
   "nbconvert_exporter": "python",
   "pygments_lexer": "ipython3",
   "version": "3.9.13"
  }
 },
 "nbformat": 4,
 "nbformat_minor": 5
}
