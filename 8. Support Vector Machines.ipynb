{
 "cells": [
  {
   "cell_type": "code",
   "execution_count": 1,
   "id": "ac62b49c",
   "metadata": {},
   "outputs": [],
   "source": [
    "import pandas as pd\n",
    "from sklearn.model_selection import StratifiedKFold, GridSearchCV\n",
    "from sklearn.model_selection import cross_val_score\n",
    "from sklearn.svm import SVC\n",
    "import matplotlib.pyplot as plt\n",
    "import os\n",
    "import numpy as np\n",
    "from sklearn.pipeline import Pipeline \n",
    "from sklearn.preprocessing import StandardScaler, MinMaxScaler"
   ]
  },
  {
   "cell_type": "markdown",
   "id": "98d29918",
   "metadata": {},
   "source": [
    "#### Bankruptcy Dataset"
   ]
  },
  {
   "cell_type": "code",
   "execution_count": 3,
   "id": "f780e3d4",
   "metadata": {},
   "outputs": [],
   "source": [
    "os.chdir(r\"C:\\CDAC\\6_Practical_Machine_Learning\\Cases\\Bankruptcy\")"
   ]
  },
  {
   "cell_type": "code",
   "execution_count": 4,
   "id": "1ae31eb8",
   "metadata": {},
   "outputs": [],
   "source": [
    "brupt = pd.read_csv(\"Bankruptcy.csv\")\n",
    "X = brupt.drop(['NO', 'D', 'YR'], axis=1)\n",
    "y = brupt['D']"
   ]
  },
  {
   "cell_type": "code",
   "execution_count": 5,
   "id": "3b77412f",
   "metadata": {},
   "outputs": [
    {
     "name": "stdout",
     "output_type": "stream",
     "text": [
      "0.8840236686390532\n"
     ]
    }
   ],
   "source": [
    "svm = SVC(kernel='linear', C=2)\n",
    "kfold = StratifiedKFold(n_splits=5, shuffle=True, random_state=2023)\n",
    "results = cross_val_score(svm, X, y, cv=kfold, scoring='roc_auc')\n",
    "print(results.mean())"
   ]
  },
  {
   "cell_type": "code",
   "execution_count": 6,
   "id": "4b140796",
   "metadata": {},
   "outputs": [
    {
     "name": "stdout",
     "output_type": "stream",
     "text": [
      "{'C': 0.6210526315789474}\n",
      "0.8840236686390532\n"
     ]
    }
   ],
   "source": [
    "## w/o Pipeline\n",
    "params = {'C':np.linspace(0.1, 10, 20)}\n",
    "svm = SVC(kernel='linear')\n",
    "kfold = StratifiedKFold(n_splits=5, shuffle=True, random_state=2023)\n",
    "gcv = GridSearchCV(svm, param_grid=params, cv=kfold, scoring='roc_auc')\n",
    "gcv.fit(X, y)\n",
    "print(gcv.best_params_)\n",
    "print(gcv.best_score_)"
   ]
  },
  {
   "cell_type": "code",
   "execution_count": 7,
   "id": "796ab8d9",
   "metadata": {},
   "outputs": [
    {
     "name": "stdout",
     "output_type": "stream",
     "text": [
      "{'SVM__C': 0.6210526315789474}\n",
      "0.8846999154691462\n"
     ]
    }
   ],
   "source": [
    "## with Pipeline\n",
    "scaler = MinMaxScaler()\n",
    "svm = SVC(kernel='linear')\n",
    "pipe_l = Pipeline([('SCL', scaler),('SVM', svm)])\n",
    "params = {'SVM__C':np.linspace(0.1, 10, 20)}\n",
    "kfold = StratifiedKFold(n_splits=5, shuffle=True, random_state=2023)\n",
    "gcv = GridSearchCV(pipe_l, param_grid=params, cv=kfold, scoring='roc_auc')\n",
    "gcv.fit(X, y)\n",
    "print(gcv.best_params_)\n",
    "print(gcv.best_score_)"
   ]
  },
  {
   "cell_type": "code",
   "execution_count": 8,
   "id": "1e4d6be8",
   "metadata": {},
   "outputs": [
    {
     "name": "stdout",
     "output_type": "stream",
     "text": [
      "{'SVM__C': 0.1, 'SVM__coef0': 1.5789473684210527, 'SVM__degree': 2}\n",
      "0.8917159763313609\n"
     ]
    }
   ],
   "source": [
    "######################### Polynomial #####################################\n",
    "scaler = MinMaxScaler()\n",
    "svm = SVC(kernel='poly')\n",
    "pipe_l = Pipeline([('SCL', scaler),('SVM', svm)])\n",
    "params = {'SVM__C':np.linspace(0.1, 10, 20),\n",
    "          'SVM__degree':[2,3,4],\n",
    "          'SVM__coef0':np.linspace(0, 10, 20)}\n",
    "kfold = StratifiedKFold(n_splits=5, shuffle=True, random_state=2023)\n",
    "gcv = GridSearchCV(pipe_l, param_grid=params, cv=kfold, scoring='roc_auc')\n",
    "gcv.fit(X, y)\n",
    "print(gcv.best_params_)\n",
    "print(gcv.best_score_)"
   ]
  },
  {
   "cell_type": "code",
   "execution_count": 9,
   "id": "410b7d37",
   "metadata": {},
   "outputs": [
    {
     "name": "stdout",
     "output_type": "stream",
     "text": [
      "{'SVM__C': 0.1, 'SVM__gamma': 1.5789473684210527}\n",
      "0.8693153000845311\n"
     ]
    }
   ],
   "source": [
    "######################### Radial ##########################################\n",
    "scaler = MinMaxScaler()\n",
    "svm = SVC(kernel='rbf')\n",
    "pipe_l = Pipeline([('SCL', scaler),('SVM', svm)])\n",
    "params = {'SVM__C':np.linspace(0.1, 10, 20),\n",
    "          'SVM__gamma':np.linspace(0, 10, 20)}\n",
    "kfold = StratifiedKFold(n_splits=5, shuffle=True, random_state=2023)\n",
    "gcv = GridSearchCV(pipe_l, param_grid=params, cv=kfold, scoring='roc_auc')\n",
    "gcv.fit(X, y)\n",
    "print(gcv.best_params_)\n",
    "print(gcv.best_score_)"
   ]
  },
  {
   "cell_type": "markdown",
   "id": "64028aed",
   "metadata": {},
   "source": [
    "#### Kyphosis Dataset"
   ]
  },
  {
   "cell_type": "code",
   "execution_count": 10,
   "id": "edf0dabd",
   "metadata": {},
   "outputs": [],
   "source": [
    "os.chdir(r\"C:\\CDAC\\6_Practical_Machine_Learning\\Cases\\Kyphosis\")"
   ]
  },
  {
   "cell_type": "code",
   "execution_count": 11,
   "id": "352c8ac6",
   "metadata": {},
   "outputs": [],
   "source": [
    "kyphosis = pd.read_csv(\"Kyphosis.csv\")\n",
    "dum_kyp = pd.get_dummies(kyphosis, drop_first=True)"
   ]
  },
  {
   "cell_type": "code",
   "execution_count": 12,
   "id": "e41d6a6d",
   "metadata": {},
   "outputs": [],
   "source": [
    "X = dum_kyp.drop('Kyphosis_present', axis=1)\n",
    "y = dum_kyp['Kyphosis_present']"
   ]
  },
  {
   "cell_type": "code",
   "execution_count": 13,
   "id": "f616a454",
   "metadata": {},
   "outputs": [
    {
     "name": "stdout",
     "output_type": "stream",
     "text": [
      "{'SVM__C': 10.0}\n",
      "0.8221153846153847\n"
     ]
    }
   ],
   "source": [
    "scaler = MinMaxScaler()\n",
    "svm = SVC(kernel='linear')\n",
    "pipe_l = Pipeline([('SCL', scaler),('SVM', svm)])\n",
    "params = {'SVM__C':np.linspace(0.1, 10, 20)}\n",
    "kfold = StratifiedKFold(n_splits=5, shuffle=True, random_state=2023)\n",
    "gcv = GridSearchCV(pipe_l, param_grid=params, cv=kfold, scoring='roc_auc')\n",
    "gcv.fit(X, y)\n",
    "print(gcv.best_params_)\n",
    "print(gcv.best_score_)"
   ]
  },
  {
   "cell_type": "code",
   "execution_count": 14,
   "id": "4770ed36",
   "metadata": {},
   "outputs": [
    {
     "name": "stdout",
     "output_type": "stream",
     "text": [
      "{'SVM__C': 0.6210526315789474, 'SVM__coef0': 4.2105263157894735, 'SVM__degree': 2}\n",
      "0.871474358974359\n"
     ]
    }
   ],
   "source": [
    "######################### Polynomial #####################################\n",
    "scaler = MinMaxScaler()\n",
    "svm = SVC(kernel='poly')\n",
    "pipe_l = Pipeline([('SCL', scaler),('SVM', svm)])\n",
    "params = {'SVM__C':np.linspace(0.1, 10, 20),\n",
    "          'SVM__degree':[2,3,4],\n",
    "          'SVM__coef0':np.linspace(0, 10, 20)}\n",
    "kfold = StratifiedKFold(n_splits=5, shuffle=True, random_state=2023)\n",
    "gcv = GridSearchCV(pipe_l, param_grid=params, cv=kfold, scoring='roc_auc')\n",
    "gcv.fit(X, y)\n",
    "print(gcv.best_params_)\n",
    "print(gcv.best_score_)"
   ]
  },
  {
   "cell_type": "code",
   "execution_count": 15,
   "id": "873c8184",
   "metadata": {},
   "outputs": [
    {
     "name": "stdout",
     "output_type": "stream",
     "text": [
      "{'SVM__C': 6.352631578947369, 'SVM__gamma': 0.5263157894736842}\n",
      "0.8772435897435896\n"
     ]
    }
   ],
   "source": [
    "######################### Radial ##########################################\n",
    "scaler = MinMaxScaler()\n",
    "svm = SVC(kernel='rbf')\n",
    "pipe_l = Pipeline([('SCL', scaler),('SVM', svm)])\n",
    "params = {'SVM__C':np.linspace(0.1, 10, 20),\n",
    "          'SVM__gamma':np.linspace(0, 10, 20)}\n",
    "kfold = StratifiedKFold(n_splits=5, shuffle=True, random_state=2023)\n",
    "gcv = GridSearchCV(pipe_l, param_grid=params, cv=kfold, scoring='roc_auc')\n",
    "gcv.fit(X, y)\n",
    "print(gcv.best_params_)\n",
    "print(gcv.best_score_)"
   ]
  },
  {
   "cell_type": "markdown",
   "id": "fcbb9caa",
   "metadata": {},
   "source": [
    "#### Wisconsin Dataset"
   ]
  },
  {
   "cell_type": "code",
   "execution_count": 16,
   "id": "7d04350c",
   "metadata": {},
   "outputs": [],
   "source": [
    "os.chdir(r\"C:\\CDAC\\6_Practical_Machine_Learning\\Cases\\Wisconsin\")"
   ]
  },
  {
   "cell_type": "code",
   "execution_count": 17,
   "id": "77407098",
   "metadata": {},
   "outputs": [],
   "source": [
    "b_cancer = pd.read_csv(\"BreastCancer.csv\", index_col=0)\n",
    "dum_canc = pd.get_dummies(b_cancer, drop_first=True)"
   ]
  },
  {
   "cell_type": "code",
   "execution_count": 18,
   "id": "d888081a",
   "metadata": {},
   "outputs": [],
   "source": [
    "X = dum_canc.drop('Class_Malignant', axis=1)\n",
    "y = dum_canc['Class_Malignant']"
   ]
  },
  {
   "cell_type": "code",
   "execution_count": 19,
   "id": "4c02d0b3",
   "metadata": {},
   "outputs": [
    {
     "name": "stdout",
     "output_type": "stream",
     "text": [
      "{'SVM__C': 0.1}\n",
      "0.9951600593653611\n"
     ]
    }
   ],
   "source": [
    "######################### Linear ################################\n",
    "scaler = MinMaxScaler()\n",
    "svm = SVC(kernel='linear')\n",
    "pipe_l = Pipeline([('SCL', scaler),('SVM', svm)])\n",
    "params = {'SVM__C':np.linspace(0.1, 10, 5)}\n",
    "kfold = StratifiedKFold(n_splits=5, shuffle=True, random_state=2023)\n",
    "gcv = GridSearchCV(pipe_l, param_grid=params, cv=kfold, scoring='roc_auc')\n",
    "gcv.fit(X, y)\n",
    "print(gcv.best_params_)\n",
    "print(gcv.best_score_)"
   ]
  },
  {
   "cell_type": "code",
   "execution_count": null,
   "id": "9208229f",
   "metadata": {},
   "outputs": [],
   "source": []
  }
 ],
 "metadata": {
  "kernelspec": {
   "display_name": "Python 3 (ipykernel)",
   "language": "python",
   "name": "python3"
  },
  "language_info": {
   "codemirror_mode": {
    "name": "ipython",
    "version": 3
   },
   "file_extension": ".py",
   "mimetype": "text/x-python",
   "name": "python",
   "nbconvert_exporter": "python",
   "pygments_lexer": "ipython3",
   "version": "3.9.13"
  }
 },
 "nbformat": 4,
 "nbformat_minor": 5
}
