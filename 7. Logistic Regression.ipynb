{
 "cells": [
  {
   "cell_type": "code",
   "execution_count": 6,
   "id": "4259cf61",
   "metadata": {},
   "outputs": [],
   "source": [
    "import pandas as pd\n",
    "from sklearn.model_selection import StratifiedKFold, GridSearchCV\n",
    "from sklearn.linear_model import LogisticRegression\n",
    "import matplotlib.pyplot as plt\n",
    "import os\n",
    "import numpy as np\n",
    "import os\n",
    "os.chdir(r\"C:\\CDAC\\6_Practical_Machine_Learning\\Datasets\")\n",
    "import warnings\n",
    "warnings.filterwarnings('ignore')"
   ]
  },
  {
   "cell_type": "markdown",
   "id": "2a820412",
   "metadata": {},
   "source": [
    "#### Bankruptcy Dataset"
   ]
  },
  {
   "cell_type": "code",
   "execution_count": 3,
   "id": "d723b2a1",
   "metadata": {},
   "outputs": [],
   "source": [
    "os.chdir(r\"C:\\CDAC\\6_Practical_Machine_Learning\\Cases\\Bankruptcy\")"
   ]
  },
  {
   "cell_type": "code",
   "execution_count": 4,
   "id": "d8a6f3fa",
   "metadata": {},
   "outputs": [],
   "source": [
    "brupt = pd.read_csv(\"Bankruptcy.csv\")\n",
    "X = brupt.drop(['NO', 'D', 'YR'], axis=1)\n",
    "y = brupt['D']"
   ]
  },
  {
   "cell_type": "code",
   "execution_count": 7,
   "id": "e433d548",
   "metadata": {},
   "outputs": [
    {
     "name": "stdout",
     "output_type": "stream",
     "text": [
      "{'penalty': 'l2'}\n",
      "0.8804733727810652\n"
     ]
    }
   ],
   "source": [
    "kfold = StratifiedKFold(n_splits=5, shuffle=True, random_state=2023)\n",
    "lr = LogisticRegression()\n",
    "params = {'penalty':['l1','l2','elasticnet', None]}\n",
    "gcv = GridSearchCV(lr, param_grid=params, cv=kfold, scoring='roc_auc')\n",
    "gcv.fit(X, y)\n",
    "print(gcv.best_params_)\n",
    "print(gcv.best_score_)"
   ]
  },
  {
   "cell_type": "markdown",
   "id": "92d9ace0",
   "metadata": {},
   "source": [
    "#### Santander Customer Satisfaction"
   ]
  },
  {
   "cell_type": "code",
   "execution_count": 10,
   "id": "67f3c6de",
   "metadata": {},
   "outputs": [
    {
     "name": "stdout",
     "output_type": "stream",
     "text": [
      "Fitting 5 folds for each of 4 candidates, totalling 20 fits\n",
      "[CV] END .........................................penalty=l1; total time=   0.2s\n",
      "[CV] END .........................................penalty=l1; total time=   0.1s\n",
      "[CV] END .........................................penalty=l1; total time=   0.1s\n",
      "[CV] END .........................................penalty=l1; total time=   0.1s\n",
      "[CV] END .........................................penalty=l1; total time=   0.1s\n",
      "[CV] END .........................................penalty=l2; total time=   7.1s\n",
      "[CV] END .........................................penalty=l2; total time=  12.2s\n",
      "[CV] END .........................................penalty=l2; total time=  10.2s\n",
      "[CV] END .........................................penalty=l2; total time=   7.8s\n",
      "[CV] END .........................................penalty=l2; total time=  14.1s\n",
      "[CV] END .................................penalty=elasticnet; total time=   0.2s\n",
      "[CV] END .................................penalty=elasticnet; total time=   0.2s\n",
      "[CV] END .................................penalty=elasticnet; total time=   0.2s\n",
      "[CV] END .................................penalty=elasticnet; total time=   0.2s\n",
      "[CV] END .................................penalty=elasticnet; total time=   0.2s\n",
      "[CV] END .......................................penalty=None; total time=   6.7s\n",
      "[CV] END .......................................penalty=None; total time=  12.4s\n",
      "[CV] END .......................................penalty=None; total time=   9.8s\n",
      "[CV] END .......................................penalty=None; total time=   6.9s\n",
      "[CV] END .......................................penalty=None; total time=  12.4s\n",
      "{'penalty': 'l2'}\n",
      "0.6016317230821471\n"
     ]
    }
   ],
   "source": [
    "os.chdir(r\"C:\\CDAC\\6_Practical_Machine_Learning\\Cases\\Santander Customer Satisfaction\")\n",
    "train = pd.read_csv(\"train.csv\", index_col=0)\n",
    "X_train = train.drop('TARGET', axis=1)\n",
    "y_train = train['TARGET']\n",
    "\n",
    "X_test = pd.read_csv(\"test.csv\",index_col=0)\n",
    "\n",
    "kfold = StratifiedKFold(n_splits=5, shuffle=True, random_state=2023)\n",
    "lr = LogisticRegression()\n",
    "params = {'penalty':['l1','l2','elasticnet', None]}\n",
    "gcv = GridSearchCV(lr, param_grid=params, verbose=2,\n",
    "                   cv=kfold, scoring='roc_auc')\n",
    "gcv.fit(X_train, y_train)\n",
    "print(gcv.best_params_)\n",
    "print(gcv.best_score_)"
   ]
  },
  {
   "cell_type": "markdown",
   "id": "96429db1",
   "metadata": {},
   "source": [
    "#### Image Segmentation Dataset"
   ]
  },
  {
   "cell_type": "code",
   "execution_count": 9,
   "id": "5b19e046",
   "metadata": {},
   "outputs": [
    {
     "name": "stdout",
     "output_type": "stream",
     "text": [
      "{'multi_class': 'multinomial', 'penalty': 'l2'}\n",
      "-0.8644146724718939\n"
     ]
    }
   ],
   "source": [
    "os.chdir(r\"C:\\CDAC\\6_Practical_Machine_Learning\\Cases\\Image Segmentation\")\n",
    "from sklearn.preprocessing import LabelEncoder \n",
    "\n",
    "image_seg = pd.read_csv(\"Image_Segmention.csv\")\n",
    "X = image_seg.drop('Class', axis=1)\n",
    "y = image_seg['Class']\n",
    "\n",
    "le = LabelEncoder()\n",
    "le_y = le.fit_transform(y)\n",
    "\n",
    "kfold = StratifiedKFold(n_splits=5, shuffle=True, random_state=2023)\n",
    "lr = LogisticRegression()\n",
    "params = {'penalty':['l1','l2','elasticnet', None],\n",
    "          'multi_class':['ovr', 'multinomial']}\n",
    "gcv = GridSearchCV(lr, param_grid=params, cv=kfold, \n",
    "                   scoring='neg_log_loss')\n",
    "gcv.fit(X, le_y)\n",
    "\n",
    "print(gcv.best_params_)\n",
    "print(gcv.best_score_)"
   ]
  },
  {
   "cell_type": "code",
   "execution_count": null,
   "id": "434c050b",
   "metadata": {},
   "outputs": [],
   "source": []
  }
 ],
 "metadata": {
  "kernelspec": {
   "display_name": "Python 3 (ipykernel)",
   "language": "python",
   "name": "python3"
  },
  "language_info": {
   "codemirror_mode": {
    "name": "ipython",
    "version": 3
   },
   "file_extension": ".py",
   "mimetype": "text/x-python",
   "name": "python",
   "nbconvert_exporter": "python",
   "pygments_lexer": "ipython3",
   "version": "3.9.13"
  }
 },
 "nbformat": 4,
 "nbformat_minor": 5
}
