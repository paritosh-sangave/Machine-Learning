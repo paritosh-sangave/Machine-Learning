{
 "cells": [
  {
   "cell_type": "markdown",
   "id": "9989b88a",
   "metadata": {},
   "source": [
    "## 1. Use of Metrics "
   ]
  },
  {
   "cell_type": "code",
   "execution_count": 10,
   "id": "3592d3ef",
   "metadata": {},
   "outputs": [],
   "source": [
    "import os\n",
    "os.chdir(r\"C:\\CDAC\\6_Practical_Machine_Learning\\Datasets\")"
   ]
  },
  {
   "cell_type": "code",
   "execution_count": 1,
   "id": "5baa2666",
   "metadata": {},
   "outputs": [
    {
     "data": {
      "text/plain": [
       "'1.2.1'"
      ]
     },
     "execution_count": 1,
     "metadata": {},
     "output_type": "execute_result"
    }
   ],
   "source": [
    "import sklearn\n",
    "sklearn.__version__"
   ]
  },
  {
   "cell_type": "code",
   "execution_count": 3,
   "id": "a8292d47",
   "metadata": {},
   "outputs": [],
   "source": [
    "# pip install -U scikit-learn"
   ]
  },
  {
   "cell_type": "code",
   "execution_count": 24,
   "id": "ae7ed0f2",
   "metadata": {},
   "outputs": [],
   "source": [
    "# pip install -U matplotlib"
   ]
  },
  {
   "cell_type": "code",
   "execution_count": 3,
   "id": "03350def",
   "metadata": {},
   "outputs": [],
   "source": [
    "# pip install -U pandas"
   ]
  },
  {
   "cell_type": "code",
   "execution_count": 2,
   "id": "87afffc1",
   "metadata": {},
   "outputs": [],
   "source": [
    "# pip install -U numpy"
   ]
  },
  {
   "cell_type": "code",
   "execution_count": 5,
   "id": "bef7b166",
   "metadata": {},
   "outputs": [],
   "source": [
    "# pip install -U seaborn"
   ]
  },
  {
   "cell_type": "code",
   "execution_count": 11,
   "id": "cf4a7825",
   "metadata": {},
   "outputs": [],
   "source": [
    "import pandas as pd\n",
    "from sklearn.metrics import confusion_matrix\n",
    "from sklearn.metrics import accuracy_score\n",
    "from sklearn.metrics import recall_score\n",
    "from sklearn.metrics import precision_score \n",
    "from sklearn.metrics import f1_score \n",
    "from sklearn.metrics import classification_report"
   ]
  },
  {
   "cell_type": "code",
   "execution_count": 12,
   "id": "b77478ac",
   "metadata": {},
   "outputs": [
    {
     "data": {
      "text/html": [
       "<div>\n",
       "<style scoped>\n",
       "    .dataframe tbody tr th:only-of-type {\n",
       "        vertical-align: middle;\n",
       "    }\n",
       "\n",
       "    .dataframe tbody tr th {\n",
       "        vertical-align: top;\n",
       "    }\n",
       "\n",
       "    .dataframe thead th {\n",
       "        text-align: right;\n",
       "    }\n",
       "</style>\n",
       "<table border=\"1\" class=\"dataframe\">\n",
       "  <thead>\n",
       "    <tr style=\"text-align: right;\">\n",
       "      <th></th>\n",
       "      <th>y_test</th>\n",
       "      <th>y_pred</th>\n",
       "    </tr>\n",
       "  </thead>\n",
       "  <tbody>\n",
       "    <tr>\n",
       "      <th>0</th>\n",
       "      <td>0</td>\n",
       "      <td>0</td>\n",
       "    </tr>\n",
       "    <tr>\n",
       "      <th>1</th>\n",
       "      <td>0</td>\n",
       "      <td>0</td>\n",
       "    </tr>\n",
       "    <tr>\n",
       "      <th>2</th>\n",
       "      <td>0</td>\n",
       "      <td>0</td>\n",
       "    </tr>\n",
       "    <tr>\n",
       "      <th>3</th>\n",
       "      <td>1</td>\n",
       "      <td>0</td>\n",
       "    </tr>\n",
       "    <tr>\n",
       "      <th>4</th>\n",
       "      <td>0</td>\n",
       "      <td>1</td>\n",
       "    </tr>\n",
       "    <tr>\n",
       "      <th>5</th>\n",
       "      <td>1</td>\n",
       "      <td>1</td>\n",
       "    </tr>\n",
       "    <tr>\n",
       "      <th>6</th>\n",
       "      <td>1</td>\n",
       "      <td>0</td>\n",
       "    </tr>\n",
       "    <tr>\n",
       "      <th>7</th>\n",
       "      <td>0</td>\n",
       "      <td>0</td>\n",
       "    </tr>\n",
       "    <tr>\n",
       "      <th>8</th>\n",
       "      <td>1</td>\n",
       "      <td>1</td>\n",
       "    </tr>\n",
       "    <tr>\n",
       "      <th>9</th>\n",
       "      <td>0</td>\n",
       "      <td>1</td>\n",
       "    </tr>\n",
       "    <tr>\n",
       "      <th>10</th>\n",
       "      <td>0</td>\n",
       "      <td>0</td>\n",
       "    </tr>\n",
       "    <tr>\n",
       "      <th>11</th>\n",
       "      <td>1</td>\n",
       "      <td>0</td>\n",
       "    </tr>\n",
       "  </tbody>\n",
       "</table>\n",
       "</div>"
      ],
      "text/plain": [
       "    y_test  y_pred\n",
       "0        0       0\n",
       "1        0       0\n",
       "2        0       0\n",
       "3        1       0\n",
       "4        0       1\n",
       "5        1       1\n",
       "6        1       0\n",
       "7        0       0\n",
       "8        1       1\n",
       "9        0       1\n",
       "10       0       0\n",
       "11       1       0"
      ]
     },
     "execution_count": 12,
     "metadata": {},
     "output_type": "execute_result"
    }
   ],
   "source": [
    "eval_data = pd.read_csv(\"eval_data.csv\")\n",
    "eval_data"
   ]
  },
  {
   "cell_type": "code",
   "execution_count": 33,
   "id": "82f6e048",
   "metadata": {},
   "outputs": [
    {
     "data": {
      "text/plain": [
       "array([[5, 2],\n",
       "       [3, 2]], dtype=int64)"
      ]
     },
     "execution_count": 33,
     "metadata": {},
     "output_type": "execute_result"
    }
   ],
   "source": [
    "confusion_matrix(eval_data['y_test'], eval_data['y_pred'])\n",
    "\n",
    "#          | y_pred(0) | y_pred(1) |\n",
    "# y_test(0)|___________|___________|\n",
    "# y_test(1)|           |           |"
   ]
  },
  {
   "cell_type": "code",
   "execution_count": 34,
   "id": "e104e597",
   "metadata": {},
   "outputs": [
    {
     "data": {
      "text/plain": [
       "0.5833333333333334"
      ]
     },
     "execution_count": 34,
     "metadata": {},
     "output_type": "execute_result"
    }
   ],
   "source": [
    "accuracy_score(eval_data['y_test'], eval_data['y_pred'])\n",
    "# (5+2)/(5+2+3+2)"
   ]
  },
  {
   "cell_type": "code",
   "execution_count": 35,
   "id": "40c1819c",
   "metadata": {},
   "outputs": [
    {
     "data": {
      "text/plain": [
       "0.7142857142857143"
      ]
     },
     "execution_count": 35,
     "metadata": {},
     "output_type": "execute_result"
    }
   ],
   "source": [
    "# Recall(0)\n",
    "recall_score(eval_data['y_test'], eval_data['y_pred'], pos_label=0)\n",
    "# 5/(5+2) # correctly predicted zeros / zeros in y_test"
   ]
  },
  {
   "cell_type": "code",
   "execution_count": 36,
   "id": "1bcdf510",
   "metadata": {},
   "outputs": [
    {
     "data": {
      "text/plain": [
       "0.4"
      ]
     },
     "execution_count": 36,
     "metadata": {},
     "output_type": "execute_result"
    }
   ],
   "source": [
    "# Recall(1)\n",
    "recall_score(eval_data['y_test'], eval_data['y_pred'], pos_label=1)\n",
    "# 2/(2+3) # correctly predicted ones / ones in y_test"
   ]
  },
  {
   "cell_type": "code",
   "execution_count": 37,
   "id": "9327e757",
   "metadata": {},
   "outputs": [
    {
     "data": {
      "text/plain": [
       "0.5571428571428572"
      ]
     },
     "execution_count": 37,
     "metadata": {},
     "output_type": "execute_result"
    }
   ],
   "source": [
    "# Recall Average\n",
    "recall_score(eval_data['y_test'], eval_data['y_pred'], average='macro')\n",
    "# mean of Recall(0) and Recall(1)"
   ]
  },
  {
   "cell_type": "code",
   "execution_count": 38,
   "id": "9dc9561e",
   "metadata": {},
   "outputs": [
    {
     "data": {
      "text/plain": [
       "0.5833333333333334"
      ]
     },
     "execution_count": 38,
     "metadata": {},
     "output_type": "execute_result"
    }
   ],
   "source": [
    "# Recall Weighted Average\n",
    "recall_score(eval_data['y_test'], eval_data['y_pred'], average='weighted')\n",
    "# "
   ]
  },
  {
   "cell_type": "code",
   "execution_count": 39,
   "id": "03cef258",
   "metadata": {},
   "outputs": [
    {
     "data": {
      "text/plain": [
       "0.625"
      ]
     },
     "execution_count": 39,
     "metadata": {},
     "output_type": "execute_result"
    }
   ],
   "source": [
    "# Precision (0)\n",
    "precision_score(eval_data['y_test'], eval_data['y_pred'], pos_label=0)"
   ]
  },
  {
   "cell_type": "code",
   "execution_count": 40,
   "id": "46fc7790",
   "metadata": {},
   "outputs": [
    {
     "data": {
      "text/plain": [
       "0.5"
      ]
     },
     "execution_count": 40,
     "metadata": {},
     "output_type": "execute_result"
    }
   ],
   "source": [
    "# Precision (1)\n",
    "precision_score(eval_data['y_test'], eval_data['y_pred'], pos_label=1)"
   ]
  },
  {
   "cell_type": "code",
   "execution_count": 41,
   "id": "72538c17",
   "metadata": {},
   "outputs": [
    {
     "data": {
      "text/plain": [
       "0.5625"
      ]
     },
     "execution_count": 41,
     "metadata": {},
     "output_type": "execute_result"
    }
   ],
   "source": [
    "# Precision Average\n",
    "precision_score(eval_data['y_test'], eval_data['y_pred'], average='macro')"
   ]
  },
  {
   "cell_type": "code",
   "execution_count": 42,
   "id": "b2394760",
   "metadata": {},
   "outputs": [
    {
     "data": {
      "text/plain": [
       "0.5729166666666666"
      ]
     },
     "execution_count": 42,
     "metadata": {},
     "output_type": "execute_result"
    }
   ],
   "source": [
    "# Precision Weighted Average\n",
    "precision_score(eval_data['y_test'], eval_data['y_pred'], average='weighted')"
   ]
  },
  {
   "cell_type": "code",
   "execution_count": 43,
   "id": "7f80edb7",
   "metadata": {},
   "outputs": [
    {
     "data": {
      "text/plain": [
       "0.6666666666666666"
      ]
     },
     "execution_count": 43,
     "metadata": {},
     "output_type": "execute_result"
    }
   ],
   "source": [
    "# F1 (0)\n",
    "f1_score(eval_data['y_test'], eval_data['y_pred'], pos_label=0)"
   ]
  },
  {
   "cell_type": "code",
   "execution_count": 44,
   "id": "90768621",
   "metadata": {},
   "outputs": [
    {
     "data": {
      "text/plain": [
       "0.4444444444444445"
      ]
     },
     "execution_count": 44,
     "metadata": {},
     "output_type": "execute_result"
    }
   ],
   "source": [
    "# F1 (1)\n",
    "f1_score(eval_data['y_test'], eval_data['y_pred'], pos_label=1)"
   ]
  },
  {
   "cell_type": "code",
   "execution_count": 45,
   "id": "1779bccc",
   "metadata": {},
   "outputs": [
    {
     "data": {
      "text/plain": [
       "0.5555555555555556"
      ]
     },
     "execution_count": 45,
     "metadata": {},
     "output_type": "execute_result"
    }
   ],
   "source": [
    "# F1 Average\n",
    "f1_score(eval_data['y_test'],  eval_data['y_pred'], average='macro')"
   ]
  },
  {
   "cell_type": "code",
   "execution_count": 46,
   "id": "71d92059",
   "metadata": {},
   "outputs": [
    {
     "data": {
      "text/plain": [
       "0.5740740740740741"
      ]
     },
     "execution_count": 46,
     "metadata": {},
     "output_type": "execute_result"
    }
   ],
   "source": [
    "# F1 Weighted Average\n",
    "f1_score(eval_data['y_test'], eval_data['y_pred'], average='weighted')"
   ]
  },
  {
   "cell_type": "code",
   "execution_count": 48,
   "id": "c7c2d667",
   "metadata": {},
   "outputs": [
    {
     "name": "stdout",
     "output_type": "stream",
     "text": [
      "              precision    recall  f1-score   support\n",
      "\n",
      "           0       0.62      0.71      0.67         7\n",
      "           1       0.50      0.40      0.44         5\n",
      "\n",
      "    accuracy                           0.58        12\n",
      "   macro avg       0.56      0.56      0.56        12\n",
      "weighted avg       0.57      0.58      0.57        12\n",
      "\n"
     ]
    }
   ],
   "source": [
    "print(classification_report(eval_data['y_test'], eval_data['y_pred']))"
   ]
  },
  {
   "cell_type": "markdown",
   "id": "b2baf5fc",
   "metadata": {},
   "source": [
    "## 2. ROC-AUC Score and ROC curve"
   ]
  },
  {
   "cell_type": "code",
   "execution_count": 13,
   "id": "a267354d",
   "metadata": {},
   "outputs": [],
   "source": [
    "import pandas as pd\n",
    "from sklearn.metrics import roc_curve, roc_auc_score \n",
    "import matplotlib.pyplot as plt"
   ]
  },
  {
   "cell_type": "code",
   "execution_count": 14,
   "id": "2de6f803",
   "metadata": {},
   "outputs": [
    {
     "data": {
      "text/html": [
       "<div>\n",
       "<style scoped>\n",
       "    .dataframe tbody tr th:only-of-type {\n",
       "        vertical-align: middle;\n",
       "    }\n",
       "\n",
       "    .dataframe tbody tr th {\n",
       "        vertical-align: top;\n",
       "    }\n",
       "\n",
       "    .dataframe thead th {\n",
       "        text-align: right;\n",
       "    }\n",
       "</style>\n",
       "<table border=\"1\" class=\"dataframe\">\n",
       "  <thead>\n",
       "    <tr style=\"text-align: right;\">\n",
       "      <th></th>\n",
       "      <th>y_test</th>\n",
       "      <th>yprob_1</th>\n",
       "      <th>yprob_2</th>\n",
       "    </tr>\n",
       "  </thead>\n",
       "  <tbody>\n",
       "    <tr>\n",
       "      <th>0</th>\n",
       "      <td>1</td>\n",
       "      <td>0.6</td>\n",
       "      <td>0.70</td>\n",
       "    </tr>\n",
       "    <tr>\n",
       "      <th>1</th>\n",
       "      <td>1</td>\n",
       "      <td>0.4</td>\n",
       "      <td>0.45</td>\n",
       "    </tr>\n",
       "    <tr>\n",
       "      <th>2</th>\n",
       "      <td>0</td>\n",
       "      <td>0.8</td>\n",
       "      <td>0.90</td>\n",
       "    </tr>\n",
       "    <tr>\n",
       "      <th>3</th>\n",
       "      <td>0</td>\n",
       "      <td>0.2</td>\n",
       "      <td>0.20</td>\n",
       "    </tr>\n",
       "    <tr>\n",
       "      <th>4</th>\n",
       "      <td>0</td>\n",
       "      <td>0.3</td>\n",
       "      <td>0.15</td>\n",
       "    </tr>\n",
       "    <tr>\n",
       "      <th>5</th>\n",
       "      <td>1</td>\n",
       "      <td>0.6</td>\n",
       "      <td>0.70</td>\n",
       "    </tr>\n",
       "    <tr>\n",
       "      <th>6</th>\n",
       "      <td>0</td>\n",
       "      <td>0.3</td>\n",
       "      <td>0.30</td>\n",
       "    </tr>\n",
       "    <tr>\n",
       "      <th>7</th>\n",
       "      <td>0</td>\n",
       "      <td>0.8</td>\n",
       "      <td>0.60</td>\n",
       "    </tr>\n",
       "    <tr>\n",
       "      <th>8</th>\n",
       "      <td>1</td>\n",
       "      <td>0.6</td>\n",
       "      <td>0.70</td>\n",
       "    </tr>\n",
       "    <tr>\n",
       "      <th>9</th>\n",
       "      <td>0</td>\n",
       "      <td>0.3</td>\n",
       "      <td>0.20</td>\n",
       "    </tr>\n",
       "  </tbody>\n",
       "</table>\n",
       "</div>"
      ],
      "text/plain": [
       "   y_test  yprob_1  yprob_2\n",
       "0       1      0.6     0.70\n",
       "1       1      0.4     0.45\n",
       "2       0      0.8     0.90\n",
       "3       0      0.2     0.20\n",
       "4       0      0.3     0.15\n",
       "5       1      0.6     0.70\n",
       "6       0      0.3     0.30\n",
       "7       0      0.8     0.60\n",
       "8       1      0.6     0.70\n",
       "9       0      0.3     0.20"
      ]
     },
     "execution_count": 14,
     "metadata": {},
     "output_type": "execute_result"
    }
   ],
   "source": [
    "comp_prob = pd.read_csv(\"comp_prob.csv\")\n",
    "comp_prob"
   ]
  },
  {
   "cell_type": "code",
   "execution_count": 15,
   "id": "3efaa8d1",
   "metadata": {},
   "outputs": [],
   "source": [
    "fpr, tpr, thres = roc_curve(comp_prob['y_test'], comp_prob['yprob_1'])"
   ]
  },
  {
   "cell_type": "code",
   "execution_count": 23,
   "id": "c912a6af",
   "metadata": {},
   "outputs": [
    {
     "data": {
      "image/png": "[encoded data removed]",
      "text/plain": [
       "<Figure size 640x480 with 1 Axes>"
      ]
     },
     "metadata": {},
     "output_type": "display_data"
    }
   ],
   "source": [
    "plt.plot([0,1], [0,1], 'k--')\n",
    "plt.plot(fpr, tpr)\n",
    "plt.xlabel(\"1-Specificity\")\n",
    "plt.ylabel(\"Sensitivity\")\n",
    "plt.show()"
   ]
  },
  {
   "cell_type": "code",
   "execution_count": 16,
   "id": "27eb7b14",
   "metadata": {},
   "outputs": [
    {
     "data": {
      "text/plain": [
       "0.6666666666666666"
      ]
     },
     "execution_count": 16,
     "metadata": {},
     "output_type": "execute_result"
    }
   ],
   "source": [
    "roc_auc_score(comp_prob['y_test'], comp_prob['yprob_1'])"
   ]
  },
  {
   "cell_type": "code",
   "execution_count": 17,
   "id": "634c5eb0",
   "metadata": {},
   "outputs": [],
   "source": [
    "fpr, tpr, thres = roc_curve(comp_prob['y_test'], comp_prob['yprob_2'])"
   ]
  },
  {
   "cell_type": "code",
   "execution_count": 27,
   "id": "bcbca087",
   "metadata": {},
   "outputs": [
    {
     "data": {
      "image/png": "[encoded data removed]",
      "text/plain": [
       "<Figure size 640x480 with 1 Axes>"
      ]
     },
     "metadata": {},
     "output_type": "display_data"
    }
   ],
   "source": [
    "plt.plot([0,1], [0,1], 'k--')\n",
    "plt.plot(fpr, tpr)\n",
    "plt.xlabel(\"1-Specificity\")\n",
    "plt.ylabel(\"Sensitivity\")\n",
    "plt.show()"
   ]
  },
  {
   "cell_type": "code",
   "execution_count": 18,
   "id": "9fd30a7e",
   "metadata": {},
   "outputs": [
    {
     "data": {
      "text/plain": [
       "0.7916666666666666"
      ]
     },
     "execution_count": 18,
     "metadata": {},
     "output_type": "execute_result"
    }
   ],
   "source": [
    "roc_auc_score(comp_prob['y_test'], comp_prob['yprob_2'])"
   ]
  },
  {
   "attachments": {},
   "cell_type": "markdown",
   "id": "a16fe83f",
   "metadata": {},
   "source": [
    "Log Loss\n",
    "$$\n",
    "-\\frac{1}{N}\\sum_{i=1}^{N}[y_{i}\\ln(p_{i}) + (1-y_{i})\\ln(1-p_{i})]\n",
    "$$\n",
    "Lower the log loss, better the model"
   ]
  },
  {
   "cell_type": "code",
   "execution_count": 22,
   "id": "8fd6f666",
   "metadata": {},
   "outputs": [],
   "source": [
    "## Log Loss\n",
    "from sklearn.metrics import log_loss"
   ]
  },
  {
   "cell_type": "code",
   "execution_count": 21,
   "id": "e01de999",
   "metadata": {},
   "outputs": [
    {
     "data": {
      "text/plain": [
       "0.6960811811170735"
      ]
     },
     "execution_count": 21,
     "metadata": {},
     "output_type": "execute_result"
    }
   ],
   "source": [
    "log_loss(comp_prob['y_test'], comp_prob['yprob_1'])"
   ]
  },
  {
   "cell_type": "code",
   "execution_count": 20,
   "id": "a4066cb5",
   "metadata": {},
   "outputs": [
    {
     "data": {
      "text/plain": [
       "0.6052889328967097"
      ]
     },
     "execution_count": 20,
     "metadata": {},
     "output_type": "execute_result"
    }
   ],
   "source": [
    "log_loss(comp_prob['y_test'], comp_prob['yprob_2'])"
   ]
  },
  {
   "cell_type": "markdown",
   "id": "756492f3",
   "metadata": {},
   "source": [
    "### Measures for Numeric Prediction Models"
   ]
  },
  {
   "cell_type": "code",
   "execution_count": 25,
   "id": "5330f3d7",
   "metadata": {},
   "outputs": [],
   "source": [
    "import numpy as np\n",
    "from sklearn.metrics import mean_absolute_error, mean_squared_error, r2_score"
   ]
  },
  {
   "cell_type": "code",
   "execution_count": 3,
   "id": "b5d525e4",
   "metadata": {},
   "outputs": [],
   "source": [
    "y_test = np.array([14, 18, 92, 43])\n",
    "y_pred = np.array([13.4, 20.9, 100.1, 40.3])"
   ]
  },
  {
   "cell_type": "code",
   "execution_count": 5,
   "id": "aad5b22f",
   "metadata": {},
   "outputs": [
    {
     "data": {
      "text/plain": [
       "array([ 0.6, -2.9, -8.1,  2.7])"
      ]
     },
     "execution_count": 5,
     "metadata": {},
     "output_type": "execute_result"
    }
   ],
   "source": [
    "pred_error = y_test - y_pred\n",
    "pred_error"
   ]
  },
  {
   "cell_type": "markdown",
   "id": "9046d3f4",
   "metadata": {},
   "source": [
    "Mean Absoloute Error"
   ]
  },
  {
   "cell_type": "code",
   "execution_count": 23,
   "id": "9d646f1d",
   "metadata": {},
   "outputs": [
    {
     "data": {
      "text/plain": [
       "3.574999999999999"
      ]
     },
     "execution_count": 23,
     "metadata": {},
     "output_type": "execute_result"
    }
   ],
   "source": [
    "mean_absolute_error1 = np.mean(np.abs(y_test-y_pred))\n",
    "mean_absolute_error1"
   ]
  },
  {
   "cell_type": "code",
   "execution_count": 26,
   "id": "43cd4f04",
   "metadata": {},
   "outputs": [
    {
     "data": {
      "text/plain": [
       "3.574999999999999"
      ]
     },
     "execution_count": 26,
     "metadata": {},
     "output_type": "execute_result"
    }
   ],
   "source": [
    "mean_absolute_error(y_test, y_pred)"
   ]
  },
  {
   "cell_type": "markdown",
   "id": "4a945adf",
   "metadata": {},
   "source": [
    "Mean Squared Error"
   ]
  },
  {
   "cell_type": "code",
   "execution_count": 31,
   "id": "ac549fa1",
   "metadata": {},
   "outputs": [
    {
     "data": {
      "text/plain": [
       "20.417499999999983"
      ]
     },
     "execution_count": 31,
     "metadata": {},
     "output_type": "execute_result"
    }
   ],
   "source": [
    "mean_squared_error1 = np.mean(np.square(pred_error))\n",
    "mean_squared_error1"
   ]
  },
  {
   "cell_type": "code",
   "execution_count": 28,
   "id": "606c5b63",
   "metadata": {},
   "outputs": [
    {
     "data": {
      "text/plain": [
       "20.417499999999983"
      ]
     },
     "execution_count": 28,
     "metadata": {},
     "output_type": "execute_result"
    }
   ],
   "source": [
    "mean_squared_error(y_test, y_pred)"
   ]
  },
  {
   "cell_type": "markdown",
   "id": "84baaab0",
   "metadata": {},
   "source": [
    "Root Mean Squared Error"
   ]
  },
  {
   "cell_type": "code",
   "execution_count": 32,
   "id": "7448e9af",
   "metadata": {},
   "outputs": [
    {
     "data": {
      "text/plain": [
       "4.518572783523575"
      ]
     },
     "execution_count": 32,
     "metadata": {},
     "output_type": "execute_result"
    }
   ],
   "source": [
    "root_mean_square_error1 = np.sqrt(np.mean(np.square(y_test-y_pred)))\n",
    "root_mean_square_error1"
   ]
  },
  {
   "cell_type": "code",
   "execution_count": 35,
   "id": "4c181ed6",
   "metadata": {},
   "outputs": [
    {
     "data": {
      "text/plain": [
       "4.518572783523575"
      ]
     },
     "execution_count": 35,
     "metadata": {},
     "output_type": "execute_result"
    }
   ],
   "source": [
    "np.sqrt(mean_squared_error(y_test, y_pred))"
   ]
  },
  {
   "cell_type": "markdown",
   "id": "14f3cc9e",
   "metadata": {},
   "source": [
    "$R^{2}$ Value"
   ]
  },
  {
   "cell_type": "code",
   "execution_count": 36,
   "id": "349840f9",
   "metadata": {},
   "outputs": [
    {
     "data": {
      "text/plain": [
       "0.9788460791297028"
      ]
     },
     "execution_count": 36,
     "metadata": {},
     "output_type": "execute_result"
    }
   ],
   "source": [
    "r_squared = 1 - np.sum(np.square(y_test-y_pred))/np.sum(np.square(y_test-np.mean(y_test)))\n",
    "r_squared"
   ]
  },
  {
   "cell_type": "code",
   "execution_count": 37,
   "id": "0e7138f3",
   "metadata": {},
   "outputs": [
    {
     "data": {
      "text/plain": [
       "0.9788460791297028"
      ]
     },
     "execution_count": 37,
     "metadata": {},
     "output_type": "execute_result"
    }
   ],
   "source": [
    "r2_score(y_test, y_pred)"
   ]
  },
  {
   "cell_type": "code",
   "execution_count": null,
   "id": "8bb5ad67",
   "metadata": {},
   "outputs": [],
   "source": []
  }
 ],
 "metadata": {
  "kernelspec": {
   "display_name": "Python 3.9.13 ('base')",
   "language": "python",
   "name": "python3"
  },
  "language_info": {
   "codemirror_mode": {
    "name": "ipython",
    "version": 3
   },
   "file_extension": ".py",
   "mimetype": "text/x-python",
   "name": "python",
   "nbconvert_exporter": "python",
   "pygments_lexer": "ipython3",
   "version": "3.9.13"
  },
  "vscode": {
   "interpreter": {
    "hash": "80652ce1f425052301562de7b24488acd5d54174c9605f053b9e74705d6d6c1b"
   }
  }
 },
 "nbformat": 4,
 "nbformat_minor": 5
}
